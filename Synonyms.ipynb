{
 "cells": [
  {
   "cell_type": "code",
   "execution_count": 1,
   "id": "1a9c5d994229ea59",
   "metadata": {
    "collapsed": false,
    "ExecuteTime": {
     "end_time": "2024-03-15T13:45:36.285456Z",
     "start_time": "2024-03-15T13:45:36.283978Z"
    }
   },
   "outputs": [],
   "source": [
    "import pandas as pd"
   ]
  },
  {
   "cell_type": "code",
   "outputs": [
    {
     "name": "stdout",
     "output_type": "stream",
     "text": [
      "Chunk 1 saved successfully.\n",
      "Chunk 2 saved successfully.\n",
      "Chunk 3 saved successfully.\n",
      "Chunk 4 saved successfully.\n",
      "Chunk 5 saved successfully.\n",
      "Chunk 6 saved successfully.\n",
      "Chunk 7 saved successfully.\n",
      "Chunk 8 saved successfully.\n",
      "Chunk 9 saved successfully.\n",
      "Chunk 10 saved successfully.\n",
      "Chunk 11 saved successfully.\n",
      "Chunk 12 saved successfully.\n",
      "Chunk 13 saved successfully.\n",
      "Chunk 14 saved successfully.\n",
      "Chunk 15 saved successfully.\n",
      "Chunk 16 saved successfully.\n",
      "Chunk 17 saved successfully.\n",
      "Chunk 18 saved successfully.\n",
      "Chunk 19 saved successfully.\n",
      "Chunk 20 saved successfully.\n",
      "Chunk 21 saved successfully.\n",
      "Chunk 22 saved successfully.\n",
      "Chunk 23 saved successfully.\n",
      "Chunk 24 saved successfully.\n",
      "Chunk 25 saved successfully.\n",
      "Chunk 26 saved successfully.\n",
      "Chunk 27 saved successfully.\n",
      "Chunk 28 saved successfully.\n",
      "Chunk 29 saved successfully.\n",
      "Chunk 30 saved successfully.\n",
      "Chunk 31 saved successfully.\n",
      "Chunk 32 saved successfully.\n",
      "Chunk 33 saved successfully.\n",
      "Chunk 34 saved successfully.\n",
      "Chunk 35 saved successfully.\n",
      "Chunk 36 saved successfully.\n",
      "Chunk 37 saved successfully.\n",
      "Chunk 38 saved successfully.\n",
      "Chunk 39 saved successfully.\n",
      "Chunk 40 saved successfully.\n",
      "All chunks saved.\n"
     ]
    }
   ],
   "source": [
    "\n",
    "file_path = './wiki_syno_sentences.csv'\n",
    "\n",
    "chunk_size = 1000\n",
    "\n",
    "# 逐块读取数据并保存为新的CSV文件\n",
    "for i, chunk in enumerate(pd.read_csv(file_path, chunksize=chunk_size)):\n",
    "    chunk.to_csv(f'chunk_{i+1}.csv', index=False)\n",
    "\n",
    "    print(f'Chunk {i+1} saved successfully.')\n",
    "\n",
    "print('All chunks saved.')"
   ],
   "metadata": {
    "collapsed": true,
    "ExecuteTime": {
     "end_time": "2024-03-15T13:46:20.707426Z",
     "start_time": "2024-03-15T13:46:15.164608Z"
    }
   },
   "id": "initial_id",
   "execution_count": 2
  },
  {
   "cell_type": "code",
   "outputs": [],
   "source": [],
   "metadata": {
    "collapsed": false
   },
   "id": "2c7793fde8867d35"
  }
 ],
 "metadata": {
  "kernelspec": {
   "display_name": "Python 3",
   "language": "python",
   "name": "python3"
  },
  "language_info": {
   "codemirror_mode": {
    "name": "ipython",
    "version": 2
   },
   "file_extension": ".py",
   "mimetype": "text/x-python",
   "name": "python",
   "nbconvert_exporter": "python",
   "pygments_lexer": "ipython2",
   "version": "2.7.6"
  }
 },
 "nbformat": 4,
 "nbformat_minor": 5
}
